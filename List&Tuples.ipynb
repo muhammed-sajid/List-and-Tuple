{
  "nbformat": 4,
  "nbformat_minor": 0,
  "metadata": {
    "colab": {
      "provenance": []
    },
    "kernelspec": {
      "name": "python3",
      "display_name": "Python 3"
    },
    "language_info": {
      "name": "python"
    }
  },
  "cells": [
    {
      "cell_type": "markdown",
      "source": [
        "\n",
        "Write a function to find the second-largest number in a list."
      ],
      "metadata": {
        "id": "urR4OAcPAWQr"
      }
    },
    {
      "cell_type": "code",
      "execution_count": 13,
      "metadata": {
        "colab": {
          "base_uri": "https://localhost:8080/"
        },
        "id": "hL27mE3u9hhd",
        "outputId": "a530dadd-51e4-4d28-fcc4-896945de37b7"
      },
      "outputs": [
        {
          "output_type": "stream",
          "name": "stdout",
          "text": [
            "[10, 17, 20, 22, 25, 30, 75, 100, 145, 180]\n",
            "List Sorted in Ascending Order [10, 17, 20, 22, 25, 30, 75, 100, 145, 180]\n",
            "Total Elements in the List 10\n",
            "First Elements in the list 10\n",
            "Second last element in the list 145\n"
          ]
        }
      ],
      "source": [
        "My_List = [10, 17, 20, 25, 22, 30, 75, 100, 180, 145]\n",
        "My_List.sort()\n",
        "print(My_List)\n",
        "print(\"List Sorted in Ascending Order\",My_List)\n",
        "length = len(My_List)\n",
        "print(\"Total Elements in the List\",length)\n",
        "print(\"First Elements in the list\",My_List[0])\n",
        "print(\"Second last element in the list\",My_List[-2])\n"
      ]
    },
    {
      "cell_type": "markdown",
      "source": [
        " Create a tuple of numbers, and write a function to find the index of a given"
      ],
      "metadata": {
        "id": "kRt65TTrAq_Q"
      }
    },
    {
      "cell_type": "code",
      "source": [
        "from re import search\n",
        "def find_index(tuple,number):\n",
        "    print(tuple.index(number))\n",
        "    index = tuple.index(number)\n",
        "    print(f\"The index of {number} in the Tuple {tuple} is: {index} \")\n",
        "\n",
        "\n",
        "List_Tuple = (10, 17, 20, 25, 22, 30, 75, 180, 100, 145)\n",
        "print(\"List is:\",List_Tuple)\n",
        "num = int(input(\"Enter the index number is :\"))\n",
        "search_index = find_index(List_Tuple,num)\n"
      ],
      "metadata": {
        "colab": {
          "base_uri": "https://localhost:8080/"
        },
        "id": "-8a5pVARAvrD",
        "outputId": "6f15eb60-718b-46a5-cbb9-210ca67546ba"
      },
      "execution_count": 28,
      "outputs": [
        {
          "output_type": "stream",
          "name": "stdout",
          "text": [
            "List is: (10, 17, 20, 25, 22, 30, 75, 180, 100, 145)\n",
            "Enter the index number is :75\n",
            "6\n",
            "The index of 75 in the Tuple (10, 17, 20, 25, 22, 30, 75, 180, 100, 145) is: 6 \n"
          ]
        }
      ]
    }
  ]
}